{
 "cells": [
  {
   "cell_type": "code",
   "execution_count": 29,
   "id": "775dca79-9e35-4d32-b134-a4652d90e67e",
   "metadata": {},
   "outputs": [
    {
     "name": "stdout",
     "output_type": "stream",
     "text": [
      "Done: ripser_spy_120.csv\n"
     ]
    }
   ],
   "source": [
    "import time\n",
    "import pandas as pd\n",
    "import numpy as np\n",
    "import yfinance as yf\n",
    "from ripser import ripser\n",
    "\n",
    "TICKER = \"SPY\"\n",
    "START = \"2000-01-01\"\n",
    "END = pd.Timestamp.today().strftime(\"%Y-%m-%d\")\n",
    "WINDOW = 120\n",
    "STEP = 1\n",
    "OUT_FILE = \"ripser_spy_120.csv\"\n",
    "\n",
    "# Download SPY closing prices\n",
    "data = yf.download(TICKER, start=START, end=END, progress=False)[[\"Close\"]].dropna()\n",
    "data.sort_index(inplace=True)\n",
    "results = []\n",
    "dates = data.index.to_list()\n",
    "\n",
    "for i in range(0, len(dates) - WINDOW + 1, STEP):\n",
    "    prices = data[\"Close\"].iloc[i : i + WINDOW].values\n",
    "    pts = np.column_stack((np.arange(WINDOW), prices))\n",
    "    t0 = time.perf_counter()\n",
    "    diagrams = ripser(pts, maxdim=1)[\"dgms\"]\n",
    "    t1 = time.perf_counter()\n",
    "\n",
    "    h0 = diagrams[0]\n",
    "    h1 = diagrams[1]\n",
    "    lif0 = np.sort(h0[:, 1] - h0[:, 0]) if h0.size else np.array([])\n",
    "    lif1 = np.sort(h1[:, 1] - h1[:, 0]) if h1.size else np.array([])\n",
    "\n",
    "    top0 = lif0[-3:][::-1] if lif0.size >= 3 else np.pad(lif0[::-1], (0, 3 - lif0.size))\n",
    "    top1 = lif1[-3:][::-1] if lif1.size >= 3 else np.pad(lif1[::-1], (0, 3 - lif1.size))\n",
    "\n",
    "    results.append({\n",
    "        \"start\": dates[i].strftime(\"%Y-%m-%d\"),\n",
    "        \"end\": dates[i + WINDOW - 1].strftime(\"%Y-%m-%d\"),\n",
    "        \"time_sec\": t1 - t0,\n",
    "        \"h0_1\": top0[0],\n",
    "        \"h0_2\": top0[1],\n",
    "        \"h0_3\": top0[2],\n",
    "        \"h1_1\": top1[0],\n",
    "        \"h1_2\": top1[1],\n",
    "        \"h1_3\": top1[2],\n",
    "    })\n",
    "\n",
    "df = pd.DataFrame(results)\n",
    "df.to_csv(OUT_FILE, index=False)\n",
    "print(\"Done:\", OUT_FILE)"
   ]
  },
  {
   "cell_type": "code",
   "execution_count": 30,
   "id": "5c8f44de-215b-4514-9d6d-084cc2eceb23",
   "metadata": {},
   "outputs": [
    {
     "name": "stdout",
     "output_type": "stream",
     "text": [
      "Collected 896 records. Saved to:\n",
      "  c:\\Users\\User\\data\\banana_input\\banana_tree_summary.csv\n"
     ]
    }
   ],
   "source": [
    "import os\n",
    "import re\n",
    "import pandas as pd\n",
    "\n",
    "# Path to the folder containing the *_bt.txt files\n",
    "folder = r\"c:\\Users\\User\\data\\banana_input\"\n",
    "time_pattern = re.compile(r\"(\\d+)ns\")\n",
    "data = []\n",
    "\n",
    "for filename in os.listdir(folder):\n",
    "    if not filename.endswith(\"_bt.txt\"):\n",
    "        continue\n",
    "\n",
    "    path = os.path.join(folder, filename)\n",
    "\n",
    "    # Expect filename like \"SPY_w0_bt.txt\"\n",
    "    name_without_suffix = filename[:-7]\n",
    "    parts = name_without_suffix.split(\"_w\")\n",
    "    if len(parts) != 2:\n",
    "        continue\n",
    "\n",
    "    asset = parts[0]\n",
    "    try:\n",
    "        window_start = int(parts[1])\n",
    "    except ValueError:\n",
    "        continue\n",
    "\n",
    "    with open(path, \"r\") as f:\n",
    "        lines = f.readlines()\n",
    "\n",
    "    found_ns = None\n",
    "    for line in lines:\n",
    "        match = time_pattern.search(line)\n",
    "        if match:\n",
    "            found_ns = int(match.group(1))\n",
    "            break\n",
    "\n",
    "    if found_ns is None:\n",
    "        continue\n",
    "    time_sec = found_ns / 1e9\n",
    "\n",
    "    data.append({\n",
    "        \"asset\": asset,\n",
    "        \"window_start\": window_start,\n",
    "        \"time_ns\": found_ns,\n",
    "        \"time_sec\": time_sec\n",
    "    })\n",
    "\n",
    "df = pd.DataFrame(data)\n",
    "df = df.sort_values([\"asset\", \"window_start\"])\n",
    "output_file = os.path.join(folder, \"banana_tree_summary.csv\")\n",
    "df.to_csv(output_file, index=False)\n",
    "print(f\"Collected {len(df)} records. Saved to:\\n  {output_file}\")"
   ]
  },
  {
   "cell_type": "code",
   "execution_count": 36,
   "id": "fa8d655e-82bc-4d4f-b0de-18e5a1d3a4cd",
   "metadata": {},
   "outputs": [
    {
     "name": "stderr",
     "output_type": "stream",
     "text": [
      "C:\\Users\\User\\AppData\\Local\\Temp\\ipykernel_4296\\3918539472.py:47: MatplotlibDeprecationWarning: The 'labels' parameter of boxplot() has been renamed 'tick_labels' since Matplotlib 3.9; support for the old name will be dropped in 3.11.\n",
      "  plt.boxplot(\n"
     ]
    },
    {
     "data": {
      "image/png": "[encoded data removed]",
      "text/plain": [
       "<Figure size 600x400 with 1 Axes>"
      ]
     },
     "metadata": {},
     "output_type": "display_data"
    }
   ],
   "source": [
    "import pandas as pd\n",
    "import numpy as np\n",
    "import matplotlib.pyplot as plt\n",
    "\n",
    "ripser_path = r\"C:\\Users\\User\\ripser_spy_120.csv\"\n",
    "banana_path = r\"C:\\Users\\User\\data\\banana_input\\banana_tree_summary.csv\"\n",
    "ripser_df = pd.read_csv(ripser_path)\n",
    "ripser_df[\"window_idx\"] = np.arange(len(ripser_df))\n",
    "\n",
    "#banana-tree results, filter to SPY, sort by window_start\n",
    "banana_df = pd.read_csv(banana_path)\n",
    "spy_banana = banana_df[banana_df[\"asset\"] == \"SPY\"].copy()\n",
    "spy_banana.sort_values(\"window_start\", inplace=True)\n",
    "spy_banana.reset_index(drop=True, inplace=True)\n",
    "\n",
    "#keep only those Ripser rows whose window_idx is in spy_banana.window_start\n",
    "valid_indices = set(spy_banana[\"window_start\"])\n",
    "filtered_ripser = ripser_df[ripser_df[\"window_idx\"].isin(valid_indices)].copy()\n",
    "filtered_ripser.sort_values(\"window_idx\", inplace=True)\n",
    "filtered_ripser.reset_index(drop=True, inplace=True)\n",
    "\n",
    "#sizes match\n",
    "count_banana = len(spy_banana)\n",
    "count_ripser = len(filtered_ripser)\n",
    "if count_banana != count_ripser:\n",
    "    raise RuntimeError(f\"Size mismatch: banana={count_banana}, ripser={count_ripser}\")\n",
    "\n",
    "#comparison DataFrame using actual Ripser column names\n",
    "comparison = pd.DataFrame({\n",
    "    \"window_idx\":      spy_banana[\"window_start\"],\n",
    "    \"banana_time_sec\": spy_banana[\"time_sec\"],\n",
    "    \"ripser_time_sec\": filtered_ripser[\"time_sec\"],\n",
    "    \"h0_top1\":         filtered_ripser[\"h0_1\"],\n",
    "    \"h0_top2\":         filtered_ripser[\"h0_2\"],\n",
    "    \"h0_top3\":         filtered_ripser[\"h0_3\"],\n",
    "    \"h1_top1\":         filtered_ripser[\"h1_1\"],\n",
    "    \"h1_top2\":         filtered_ripser[\"h1_2\"],\n",
    "    \"h1_top3\":         filtered_ripser[\"h1_3\"],\n",
    "})\n",
    "\n",
    "#compute difference and ratio\n",
    "comparison[\"time_diff\"] = comparison[\"banana_time_sec\"] - comparison[\"ripser_time_sec\"]\n",
    "comparison[\"time_ratio\"] = comparison[\"banana_time_sec\"] / comparison[\"ripser_time_sec\"]\n",
    "\n",
    "#Banana-tree vs Ripser plot\n",
    "plt.figure(figsize=(6, 4))\n",
    "plt.boxplot(\n",
    "    [comparison[\"banana_time_sec\"], comparison[\"ripser_time_sec\"]],\n",
    "    labels=[\"Banana-tree\", \"Ripser\"],\n",
    "    patch_artist=True,\n",
    "    medianprops={\"color\": \"black\"}\n",
    ")\n",
    "plt.ylabel(\"Time (seconds)\")\n",
    "plt.title(\"SPY (120-day windows): Banana-tree vs Ripser\")\n",
    "plt.grid(axis=\"y\", linestyle=\"--\", alpha=0.5)\n",
    "plt.tight_layout()\n",
    "plt.show()"
   ]
  },
  {
   "cell_type": "code",
   "execution_count": 37,
   "id": "bc298867-aabc-47f6-a65b-486dfda5b619",
   "metadata": {},
   "outputs": [
    {
     "name": "stdout",
     "output_type": "stream",
     "text": [
      "statistic  banana_time_sec  ripser_time_sec\n",
      "    count       896.000000       896.000000\n",
      "     25\\%         0.000050         0.004062\n",
      "     50\\%         0.000052         0.004224\n",
      "     75\\%         0.000056         0.004322\n",
      "      max         0.000151         0.008249\n"
     ]
    }
   ],
   "source": [
    "csv_path = r\"C:\\Users\\User\\data\\banana_input\\compare_spy_120.csv\"\n",
    "df = pd.read_csv(csv_path)\n",
    "\n",
    "summary = {\n",
    "    \"statistic\": [\"count\", \"25\\\\%\", \"50\\\\%\", \"75\\\\%\", \"max\"],\n",
    "    \"banana_time_sec\": [\n",
    "        len(df[\"banana_time_sec\"]),\n",
    "        df[\"banana_time_sec\"].quantile(0.25),\n",
    "        df[\"banana_time_sec\"].quantile(0.50),\n",
    "        df[\"banana_time_sec\"].quantile(0.75),\n",
    "        df[\"banana_time_sec\"].max()\n",
    "    ],\n",
    "    \"ripser_time_sec\": [\n",
    "        len(df[\"ripser_time_sec\"]),\n",
    "        df[\"ripser_time_sec\"].quantile(0.25),\n",
    "        df[\"ripser_time_sec\"].quantile(0.50),\n",
    "        df[\"ripser_time_sec\"].quantile(0.75),\n",
    "        df[\"ripser_time_sec\"].max()\n",
    "    ]\n",
    "}\n",
    "summary_df = pd.DataFrame(summary)\n",
    "print(summary_df.to_string(index=False))"
   ]
  }
 ],
 "metadata": {
  "kernelspec": {
   "display_name": "Python 3 (ipykernel)",
   "language": "python",
   "name": "python3"
  },
  "language_info": {
   "codemirror_mode": {
    "name": "ipython",
    "version": 3
   },
   "file_extension": ".py",
   "mimetype": "text/x-python",
   "name": "python",
   "nbconvert_exporter": "python",
   "pygments_lexer": "ipython3",
   "version": "3.13.3"
  }
 },
 "nbformat": 4,
 "nbformat_minor": 5
}
