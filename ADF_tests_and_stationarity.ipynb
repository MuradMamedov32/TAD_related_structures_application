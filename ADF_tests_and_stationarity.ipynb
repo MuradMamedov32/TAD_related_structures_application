{
 "cells": [
  {
   "cell_type": "code",
   "execution_count": 3,
   "id": "1d5d7161",
   "metadata": {},
   "outputs": [],
   "source": [
    "import numpy as np\n",
    "import pandas as pd\n",
    "import yfinance as yf\n",
    "from statsmodels.tsa.stattools import adfuller\n",
    "from ripser import ripser\n",
    "from sklearn.ensemble import RandomForestClassifier\n",
    "from sklearn.metrics import accuracy_score, roc_auc_score, roc_curve, auc\n",
    "from sklearn.model_selection import train_test_split\n",
    "import matplotlib.pyplot as plt\n",
    "import warnings\n",
    "warnings.filterwarnings(\"ignore\", category=DeprecationWarning)\n",
    "warnings.filterwarnings(\"ignore\",\n",
    "    message=\"The input point cloud has more columns than rows; did you mean to transpose\\\\?\")"
   ]
  },
  {
   "cell_type": "code",
   "execution_count": 4,
   "id": "c5f3a5b3",
   "metadata": {},
   "outputs": [
    {
     "name": "stdout",
     "output_type": "stream",
     "text": [
      "Prices ADF p-value:     0.908  (non-stationary)\n",
      "Log-returns ADF p-value: 0.000  (stationary)\n",
      "\n",
      "             base_acc   tda_acc     Δacc  base_auc   tda_auc      Δauc\n",
      "Prices       0.567110  0.566730 -0.00038  0.589347  0.588945 -0.000402\n",
      "Log-Returns  0.575095  0.574715 -0.00038  0.600740  0.602966  0.002226\n"
     ]
    }
   ],
   "source": [
    "data = yf.download('SPY', start='2018-01-01', end='2025-05-01',\n",
    "                   auto_adjust=True, progress=False)\n",
    "prices = data['Close'].dropna()\n",
    "log_ret = np.log(prices).diff().dropna()\n",
    "pct_ret = prices.pct_change().dropna()\n",
    "stat_p, pval_p = adfuller(prices)[:2]\n",
    "stat_r, pval_r = adfuller(log_ret)[:2]\n",
    "\n",
    "print(f\"Prices ADF p-value:     {pval_p:.3f}  (non-stationary)\")\n",
    "print(f\"Log-returns ADF p-value: {pval_r:.3f}  (stationary)\\n\")\n",
    "\n",
    "window_size, horizon, step = 90, 1, 1\n",
    "L = len(pct_ret)\n",
    "runs = 10\n",
    "experiments = {\n",
    "    'Prices': prices,\n",
    "    'Log-Returns': log_ret\n",
    "}\n",
    "results = {}\n",
    "thr = np.median(np.abs(pct_ret.values))\n",
    "\n",
    "for name, series in experiments.items():\n",
    "    Xb, Xt, y = [], [], []\n",
    "    vals = series.values\n",
    "    for i in range(0, L - window_size - horizon + 1, step):\n",
    "        win = vals[i:i+window_size]\n",
    "        fut = pct_ret.values[i+window_size]\n",
    "        label = int(abs(fut) > thr)\n",
    "        tech = [win.mean(), win.std()]\n",
    "        emb = np.vstack([win[:-1], win[1:]]).T\n",
    "        dgms = ripser(emb, maxdim=1)['dgms']\n",
    "        tda = []\n",
    "        for diag in dgms:\n",
    "            ls = diag[:,1] - diag[:,0]\n",
    "            ls = np.where(np.isfinite(ls), ls, 0)\n",
    "            tda.extend(np.sort(ls)[::-1][:3])\n",
    "        Xb.append(tech)\n",
    "        Xt.append(tech + tda)\n",
    "        y.append(label)\n",
    "    Xb = np.array(Xb); Xt = np.array(Xt); y = np.array(y)\n",
    "    acc_b, acc_t, auc_b, auc_t = [], [], [], []\n",
    "\n",
    "    for seed in range(runs):\n",
    "        idx = np.arange(len(y))\n",
    "        tr, te = train_test_split(idx, test_size=0.3,random_state=seed, stratify=y)\n",
    "        clf = RandomForestClassifier(random_state=seed)\n",
    "        clf.fit(Xb[tr], y[tr])\n",
    "        pred = clf.predict(Xb[te]); prob = clf.predict_proba(Xb[te])[:,1]\n",
    "        acc_b.append(accuracy_score(y[te], pred))\n",
    "        auc_b.append(roc_auc_score(y[te], prob))\n",
    "        clf.fit(Xt[tr], y[tr])\n",
    "        pred = clf.predict(Xt[te]); prob = clf.predict_proba(Xt[te])[:,1]\n",
    "        acc_t.append(accuracy_score(y[te], pred))\n",
    "        auc_t.append(roc_auc_score(y[te], prob))\n",
    "\n",
    "    results[name] = {\n",
    "        'base_acc': np.mean(acc_b),\n",
    "        'tda_acc':  np.mean(acc_t),\n",
    "        'Δacc':     np.mean(acc_t)-np.mean(acc_b),\n",
    "        'base_auc': np.mean(auc_b),\n",
    "        'tda_auc':  np.mean(auc_t),\n",
    "        'Δauc':     np.mean(auc_t)-np.mean(auc_b)\n",
    "    }\n",
    "\n",
    "res_df = pd.DataFrame(results).T\n",
    "print(res_df)"
   ]
  }
 ],
 "metadata": {
  "kernelspec": {
   "display_name": "Python 3 (ipykernel)",
   "language": "python",
   "name": "python3"
  },
  "language_info": {
   "codemirror_mode": {
    "name": "ipython",
    "version": 3
   },
   "file_extension": ".py",
   "mimetype": "text/x-python",
   "name": "python",
   "nbconvert_exporter": "python",
   "pygments_lexer": "ipython3",
   "version": "3.11.4"
  }
 },
 "nbformat": 4,
 "nbformat_minor": 5
}
